{
  "nbformat": 4,
  "nbformat_minor": 0,
  "metadata": {
    "colab": {
      "provenance": [],
      "authorship_tag": "ABX9TyN06F7mZS3BdXtAdhbNNdkZ",
      "include_colab_link": true
    },
    "kernelspec": {
      "name": "python3",
      "display_name": "Python 3"
    },
    "language_info": {
      "name": "python"
    }
  },
  "cells": [
    {
      "cell_type": "markdown",
      "metadata": {
        "id": "view-in-github",
        "colab_type": "text"
      },
      "source": [
        "<a href=\"https://colab.research.google.com/github/Miguel-EMC/Tarea-10/blob/main/Tarea10.ipynb\" target=\"_parent\"><img src=\"https://colab.research.google.com/assets/colab-badge.svg\" alt=\"Open In Colab\"/></a>"
      ]
    },
    {
      "cell_type": "code",
      "execution_count": null,
      "metadata": {
        "colab": {
          "base_uri": "https://localhost:8080/"
        },
        "id": "6GV74YiuAcwv",
        "outputId": "29bf7e2b-247b-466d-f019-d7224b61e3bb"
      },
      "outputs": [
        {
          "output_type": "execute_result",
          "data": {
            "text/plain": [
              "(array([[-4, 10],\n",
              "        [ 1, 15]]),\n",
              " array([[ 11,   4,  -8],\n",
              "        [  6,  13, -12]]),\n",
              " array([[ -1,   5,  -3],\n",
              "        [  3,   4, -11],\n",
              "        [ -6,  -7,  -4]]),\n",
              " array([[ -2,   1],\n",
              "        [-14,   7],\n",
              "        [  6,   1]]))"
            ]
          },
          "metadata": {},
          "execution_count": 2
        }
      ],
      "source": [
        "import numpy as np\n",
        "\n",
        "# Definir las matrices\n",
        "A_a = np.array([[2, -3], [3, -1]])\n",
        "B_a = np.array([[1, 5], [2, 0]])\n",
        "\n",
        "A_b = np.array([[2, -3], [3, -1]])\n",
        "B_b = np.array([[1, 5, -4], [-3, 2, 0]])\n",
        "\n",
        "A_c = np.array([[2, -3, 1], [4, 3, 0], [5, 2, -4]])\n",
        "B_c = np.array([[0, 1, -2], [1, 0, -1], [2, 3, -2]])\n",
        "\n",
        "A_d = np.array([[2, 1, 2], [-2, 3, 0], [2, -1, 3]])\n",
        "B_d = np.array([[1, -2], [-4, 1], [0, 2]])\n",
        "\n",
        "# Multiplicar las matrices\n",
        "result_a = np.dot(A_a, B_a)\n",
        "result_b = np.dot(A_b, B_b)\n",
        "result_c = np.dot(A_c, B_c)\n",
        "result_d = np.dot(A_d, B_d)\n",
        "\n",
        "# Mostrar los resultados\n",
        "result_a, result_b, result_c, result_d\n"
      ]
    },
    {
      "cell_type": "code",
      "source": [
        "# Definir las matrices\n",
        "A = np.array([[4, 2, 6], [3, 0, 7], [-2, -1, -3]])\n",
        "B = np.array([[1, 2, 0], [2, 1, -1], [3, 1, 1]])\n",
        "C = np.array([[1, 1, -1, 1], [1, 2, -4, -2], [2, 1, 1, 5], [-1, 0, -2, -4]])\n",
        "D = np.array([[4, 0, 0, 0], [6, 7, 0, 0], [9, 11, 1, 0], [5, 4, 1, 1]])\n",
        "\n",
        "# Calcular los determinantes\n",
        "det_A = np.linalg.det(A)\n",
        "det_B = np.linalg.det(B)\n",
        "det_C = np.linalg.det(C)\n",
        "det_D = np.linalg.det(D)\n",
        "\n",
        "# Verificar si las matrices son no singulares y calcular la inversa si lo son\n",
        "inv_A = np.linalg.inv(A) if det_A != 0 else None\n",
        "inv_B = np.linalg.inv(B) if det_B != 0 else None\n",
        "inv_C = np.linalg.inv(C) if det_C != 0 else None\n",
        "inv_D = np.linalg.inv(D) if det_D != 0 else None\n",
        "\n",
        "det_A, det_B, det_C, det_D, inv_A, inv_B, inv_C, inv_D\n"
      ],
      "metadata": {
        "colab": {
          "base_uri": "https://localhost:8080/"
        },
        "id": "tPk9yAnNAkkZ",
        "outputId": "29d54bb6-b67c-4d5a-fd41-366f1b46b403"
      },
      "execution_count": null,
      "outputs": [
        {
          "output_type": "execute_result",
          "data": {
            "text/plain": [
              "(0.0,\n",
              " -8.000000000000002,\n",
              " 0.0,\n",
              " 28.00000000000001,\n",
              " None,\n",
              " array([[-0.25 ,  0.25 ,  0.25 ],\n",
              "        [ 0.625, -0.125, -0.125],\n",
              "        [ 0.125, -0.625,  0.375]]),\n",
              " None,\n",
              " array([[ 0.25      ,  0.        ,  0.        ,  0.        ],\n",
              "        [-0.21428571,  0.14285714, -0.        , -0.        ],\n",
              "        [ 0.10714286, -1.57142857,  1.        , -0.        ],\n",
              "        [-0.5       ,  1.        , -1.        ,  1.        ]]))"
            ]
          },
          "metadata": {},
          "execution_count": 3
        }
      ]
    },
    {
      "cell_type": "code",
      "source": [
        "import numpy as np\n",
        "\n",
        "# Coefficient matrix A\n",
        "A = np.array([\n",
        "    [1, -1, 2, -1],\n",
        "    [1, 0, -1, 1],\n",
        "    [2, 1, 3, -4],\n",
        "    [0, -1, 1, -1]\n",
        "])\n",
        "\n",
        "# Constant vector b1 for System 1\n",
        "b1 = np.array([6, 4, -2, 5])\n",
        "\n",
        "# Constant vector b2 for System 2\n",
        "b2 = np.array([1, 1, 2, -1])\n",
        "\n",
        "# Solve the systems\n",
        "x1 = np.linalg.solve(A, b1)\n",
        "x2 = np.linalg.solve(A, b2)\n",
        "\n",
        "x1, x2\n"
      ],
      "metadata": {
        "colab": {
          "base_uri": "https://localhost:8080/"
        },
        "id": "hzOzBQU2FLvm",
        "outputId": "1439d949-876e-42c4-d002-62be69dd6657"
      },
      "execution_count": null,
      "outputs": [
        {
          "output_type": "execute_result",
          "data": {
            "text/plain": [
              "(array([ 3., -6., -2., -1.]), array([1., 1., 1., 1.]))"
            ]
          },
          "metadata": {},
          "execution_count": 4
        }
      ]
    },
    {
      "cell_type": "code",
      "source": [
        "import numpy as np\n",
        "\n",
        "# Definir las matrices para el sistema a\n",
        "A_a = np.array([[1, 0, 0],\n",
        "                [2, 1, 0],\n",
        "                [-1, 0, 1]])\n",
        "\n",
        "B_a = np.array([[2, 3, -1],\n",
        "                [0, -2, 1],\n",
        "                [0, 0, 3]])\n",
        "\n",
        "C_a = np.array([2, -1, 1])\n",
        "\n",
        "# Multiplicar A_a y B_a\n",
        "AB_a = np.dot(A_a, B_a)\n",
        "\n",
        "# Resolver el sistema AB_a * X = C_a\n",
        "X_a = np.linalg.solve(AB_a, C_a)\n",
        "\n",
        "# Definir las matrices para el sistema b\n",
        "A_b = np.array([[2, 0, 0],\n",
        "                [-1, 1, 0],\n",
        "                [3, 2, -1]])\n",
        "\n",
        "B_b = np.array([[1, 1, 1],\n",
        "                [0, 1, 2],\n",
        "                [0, 0, 1]])\n",
        "\n",
        "C_b = np.array([-1, 3, 0])\n",
        "\n",
        "# Multiplicar A_b y B_b\n",
        "AB_b = np.dot(A_b, B_b)\n",
        "\n",
        "# Resolver el sistema AB_b * X = C_b\n",
        "X_b = np.linalg.solve(AB_b, C_b)\n",
        "\n",
        "X_a, X_b\n"
      ],
      "metadata": {
        "colab": {
          "base_uri": "https://localhost:8080/"
        },
        "id": "f7kMNT-rNZU2",
        "outputId": "8c7b9364-ae93-4276-9636-76827993aadb"
      },
      "execution_count": null,
      "outputs": [
        {
          "output_type": "execute_result",
          "data": {
            "text/plain": [
              "(array([-3.,  3.,  1.]), array([ 0.5, -4.5,  3.5]))"
            ]
          },
          "metadata": {},
          "execution_count": 5
        }
      ]
    },
    {
      "cell_type": "code",
      "source": [
        "import numpy as np\n",
        "\n",
        "def lu_decomposition(A):\n",
        "    n = len(A)\n",
        "    L = np.zeros((n, n))\n",
        "    U = np.zeros((n, n))\n",
        "\n",
        "    for i in range(n):\n",
        "        L[i][i] = 1\n",
        "        for j in range(i, n):\n",
        "            U[i][j] = A[i][j] - sum(L[i][k] * U[k][j] for k in range(i))\n",
        "        for j in range(i + 1, n):\n",
        "            L[j][i] = (A[j][i] - sum(L[j][k] * U[k][i] for k in range(i))) / U[i][i]\n",
        "\n",
        "    return L, U\n",
        "\n",
        "def forward_substitution(L, b):\n",
        "    n = len(L)\n",
        "    y = np.zeros(n)\n",
        "\n",
        "    for i in range(n):\n",
        "        y[i] = b[i] - sum(L[i][j] * y[j] for j in range(i))\n",
        "\n",
        "    return y\n",
        "\n",
        "def backward_substitution(U, y):\n",
        "    n = len(U)\n",
        "    x = np.zeros(n)\n",
        "\n",
        "    for i in range(n - 1, -1, -1):\n",
        "        x[i] = (y[i] - sum(U[i][j] * x[j] for j in range(i + 1, n))) / U[i][i]\n",
        "\n",
        "    return x\n",
        "\n",
        "def solve_lu(A, b):\n",
        "    L, U = lu_decomposition(A)\n",
        "    y = forward_substitution(L, b)\n",
        "    x = backward_substitution(U, y)\n",
        "    return x\n",
        "\n",
        "# Resolución de los sistemas lineales proporcionados:\n",
        "\n",
        "# a.\n",
        "A1 = np.array([[2, -1, 1],\n",
        "               [3, 3, 9],\n",
        "               [3, 3, 5]])\n",
        "b1 = np.array([-1, 0, 4])\n",
        "x1 = solve_lu(A1, b1)\n",
        "print(\"Solución para el sistema a:\", x1)\n",
        "\n",
        "# b.\n",
        "A2 = np.array([[1.012, -2.132, 3.104],\n",
        "               [-2.132, 4.096, -7.013],\n",
        "               [3.104, -7.013, 0.014]])\n",
        "b2 = np.array([1.984, -5.049, -3.895])\n",
        "x2 = solve_lu(A2, b2)\n",
        "print(\"Solución para el sistema b:\", x2)\n",
        "\n",
        "# c.\n",
        "A3 = np.array([[2, 0, 0, 0],\n",
        "               [1, 1.5, 0, 0],\n",
        "               [0, -3, 0.5, 0],\n",
        "               [2, -2, 1, 1]])\n",
        "b3 = np.array([3, 4.5, -6.6, 0.8])\n",
        "x3 = solve_lu(A3, b3)\n",
        "print(\"Solución para el sistema c:\", x3)\n",
        "\n",
        "# d.\n",
        "A4 = np.array([[2.1756, 4.0231, -2.1732, 5.1967],\n",
        "               [-4.0231, 6.0000, 0, 1.1973],\n",
        "               [-1.0000, -5.2107, 1.1111, 0],\n",
        "               [6.0235, 7.0000, 0, -4.1561]])\n",
        "b4 = np.array([17.102, -6.1593, 3.0004, 0])\n",
        "x4 = solve_lu(A4, b4)\n",
        "print(\"Solución para el sistema d:\", x4)\n"
      ],
      "metadata": {
        "id": "O2bduMFvRRZv",
        "outputId": "314ed14f-dfbb-45ff-cf05-830959b637a2",
        "colab": {
          "base_uri": "https://localhost:8080/"
        }
      },
      "execution_count": null,
      "outputs": [
        {
          "output_type": "stream",
          "name": "stdout",
          "text": [
            "Solución para el sistema a: [ 1.  2. -1.]\n",
            "Solución para el sistema b: [1. 1. 1.]\n",
            "Solución para el sistema c: [ 1.5  2.  -1.2  3. ]\n",
            "Solución para el sistema d: [2.9398512  0.0706777  5.67773512 4.37981223]\n"
          ]
        }
      ]
    }
  ]
}